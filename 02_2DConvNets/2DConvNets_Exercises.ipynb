{
 "cells": [
  {
   "cell_type": "markdown",
   "source": "# Introduction\n\nIn this notebook, we are going to practice building a 2D Convolutional Neural Network to process the MNIST dataset. This is a classic problem, the goal is to build a tool which can accurately classify images of hand written digits as 0, 1, 2, etc. Some common applications for this kind of program include reading text off bank checks, reading hand written zip codes for the post office.\n",
   "metadata": {
    "id": "X4PbX-z5_hux",
    "colab_type": "text",
    "cell_id": "00000-86027250-92ad-4fdd-b77d-c6fee9825835",
    "deepnote_cell_type": "markdown",
    "deepnote_cell_height": 187.59375
   }
  },
  {
   "cell_type": "markdown",
   "source": "# Imports\n\nWe start by importing the packages and modules we will be needing for this project.",
   "metadata": {
    "id": "-AKfkTGlniRI",
    "colab_type": "text",
    "cell_id": "00001-53319741-75d1-415c-9760-110073c10e08",
    "deepnote_cell_type": "markdown",
    "deepnote_cell_height": 120.390625
   }
  },
  {
   "cell_type": "code",
   "metadata": {
    "id": "FVH-gplW9l-G",
    "colab_type": "code",
    "colab": {},
    "cell_id": "00002-a0754b9d-e2a3-437a-86f4-9d8a46799ed4",
    "deepnote_to_be_reexecuted": false,
    "source_hash": "1a9e7cd9",
    "execution_start": 1658859771657,
    "execution_millis": 8480,
    "deepnote_cell_type": "code",
    "deepnote_cell_height": 351
   },
   "source": "# Load standard numerical and plotting packages\nimport numpy as np\nimport matplotlib.pyplot as plt\n\n# Load some machine learning packages\nfrom sklearn.model_selection import train_test_split\n\n# scikit-learn performance metric utilities\nfrom sklearn.metrics import confusion_matrix\nfrom sklearn.metrics import accuracy_score\n\n# Import our neural network building tools\nimport tensorflow as tf\n\n# Garbage collection (for saving RAM during training)\nimport gc",
   "outputs": [],
   "execution_count": null
  },
  {
   "cell_type": "code",
   "metadata": {
    "id": "pG17vmwd_HVl",
    "colab_type": "code",
    "colab": {},
    "cell_id": "00003-c77a1262-2de7-4a22-8932-11c853052a3f",
    "deepnote_to_be_reexecuted": false,
    "source_hash": "46fdeac7",
    "execution_start": 1658859780142,
    "execution_millis": 25,
    "deepnote_cell_type": "code",
    "deepnote_cell_height": 189
   },
   "source": "# Set plotting preferences\nimport matplotlib\n%matplotlib inline\nfont = {'family' : 'sans-serif',\n        'weight' : 'normal',\n        'size'   : 16}\nmatplotlib.rc('font', **font)",
   "outputs": [],
   "execution_count": null
  },
  {
   "cell_type": "markdown",
   "source": "## Download the Dataset\n\nThe MNIST dataset contains thousands of grayscale images of handwritten digits.",
   "metadata": {
    "id": "Tqir5j5d_NCY",
    "colab_type": "text",
    "cell_id": "00004-da72a920-12cc-4f20-93a8-4df69a378848",
    "deepnote_cell_type": "markdown",
    "deepnote_cell_height": 108.390625
   }
  },
  {
   "cell_type": "code",
   "metadata": {
    "id": "iMLeeAopFj-I",
    "colab_type": "code",
    "colab": {
     "base_uri": "https://localhost:8080/",
     "height": 51
    },
    "outputId": "f0c571e9-a9f2-4b87-98b5-578421ef40a4",
    "cell_id": "00005-64eecba7-505b-4f0f-b51f-0aedbd4a0070",
    "deepnote_to_be_reexecuted": false,
    "source_hash": "550d1879",
    "execution_start": 1658859781230,
    "execution_millis": 470,
    "deepnote_cell_type": "code",
    "deepnote_cell_height": 149.390625
   },
   "source": "# Load the MNIST dataset: http://yann.lecun.com/exdb/mnist/\n(X_train, y_train), (X_test, y_test) = tf.keras.datasets.mnist.load_data()",
   "outputs": [
    {
     "name": "stdout",
     "text": "Downloading data from https://storage.googleapis.com/tensorflow/tf-keras-datasets/mnist.npz\n11490434/11490434 [==============================] - 0s 0us/step\n",
     "output_type": "stream"
    }
   ],
   "execution_count": null
  },
  {
   "cell_type": "markdown",
   "source": "## Visualize Some Example Images\nLet's see how the images look. This function shows a random example along with it's corresponding label.",
   "metadata": {
    "colab_type": "text",
    "id": "eEFU58MaNPpk",
    "cell_id": "00006-8328ec33-9751-40c2-b199-75e0a0a27423",
    "deepnote_cell_type": "markdown",
    "deepnote_cell_height": 108.390625
   }
  },
  {
   "cell_type": "code",
   "metadata": {
    "colab_type": "code",
    "id": "AwxNOsCMNNGd",
    "colab": {
     "base_uri": "https://localhost:8080/",
     "height": 567
    },
    "outputId": "8c424b56-b1a7-4f1c-bde4-89028b9db64d",
    "cell_id": "00007-1f0c87c7-b635-4e3b-b617-25bde84faafd",
    "deepnote_to_be_reexecuted": false,
    "source_hash": "9fef31c7",
    "execution_start": 1658859783807,
    "execution_millis": 568,
    "deepnote_cell_type": "code",
    "deepnote_cell_height": 1009,
    "deepnote_output_heights": [
     552
    ]
   },
   "source": "# Setup the number of images to examine\nn_rows = 2\nn_cols = 3\nimg_inds = np.random.randint(0, len(y_train), size=n_rows*n_cols)\n# Initialize a set of subplots to populate and an image counter\nfig, ax_arr = plt.subplots(n_rows, n_cols, figsize=(12, 10))\ni_img = 0\nimg_ind =0\n\n# Loop over the axes rows and columns\nfor ax_row in range(n_rows):\n    for ax_col in range(n_cols):\n        # Grab the axes instance for this row/column\n        this_ax = ax_arr[ax_row, ax_col]\n\n        # Show the image and update the title with the label\n        this_ax.imshow(X_train[img_ind], cmap='gray_r')\n        this_ax.set_title(y_train[img_ind], fontdict={'size': 20})\n\n        # Increment the image index\n        img_ind += 1",
   "outputs": [
    {
     "data": {
      "text/plain": "<Figure size 864x720 with 6 Axes>",
      "image/png": "[encoded data removed]"
     },
     "metadata": {
      "needs_background": "light",
      "image/png": {
       "width": 711,
       "height": 550
      }
     },
     "output_type": "display_data"
    }
   ],
   "execution_count": null
  },
  {
   "cell_type": "markdown",
   "source": "## Normalize the Image Data\n\nAs was explained in the tutorial notebook, it is very helpful to normalize the input data so that it falls in the range $\\left[0, 1\\right]$.",
   "metadata": {
    "id": "0lRTxunqAXSs",
    "colab_type": "text",
    "cell_id": "00008-da3d5952-587d-4b6e-8608-b7b137981a53",
    "deepnote_cell_type": "markdown",
    "deepnote_cell_height": 108.390625
   }
  },
  {
   "cell_type": "code",
   "metadata": {
    "id": "chnB93gvAWgQ",
    "colab_type": "code",
    "colab": {},
    "cell_id": "00009-47b2fbf3-1618-4c1c-8cc0-6f8b9fc80835",
    "deepnote_to_be_reexecuted": false,
    "source_hash": "67fdd93d",
    "execution_start": 1658859786289,
    "execution_millis": 79,
    "deepnote_cell_type": "code",
    "deepnote_cell_height": 189
   },
   "source": "# Use your brain and think about what steps are necessary to normalize the data\nX_train = X_train.astype(np.float32)/255.0 # <-- Apply normalization on this line\nX_test = X_test.astype(np.float32)/255.0 # <-- Apply normalization on this line\n\n# Appy one-hot encoding to the labels\ny_train = tf.keras.utils.to_categorical(y_train)\ny_test = tf.keras.utils.to_categorical(y_test)",
   "outputs": [],
   "execution_count": null
  },
  {
   "cell_type": "markdown",
   "source": "## Include an Axis for Color Channels\n\nRecall from the tutorial notebook that it is necessary to make sure that there is a \"channel\" axis in our training and test data to match what is expected by TensorFlow.",
   "metadata": {
    "id": "e97uKpeLqKYG",
    "colab_type": "text",
    "cell_id": "00010-7ef1e393-4398-4513-ba1d-0fd68d6721c4",
    "deepnote_cell_type": "markdown",
    "deepnote_cell_height": 130.796875
   }
  },
  {
   "cell_type": "code",
   "metadata": {
    "id": "GriZ4f0SqNgq",
    "colab_type": "code",
    "colab": {},
    "cell_id": "00011-3dea0215-ad8b-47ca-91ff-7873ad6bdc1b",
    "deepnote_to_be_reexecuted": false,
    "source_hash": "d67cbede",
    "execution_start": 1658859939002,
    "execution_millis": 3,
    "deepnote_cell_type": "code",
    "deepnote_cell_height": 117
   },
   "source": "# Use your mighty brain again! Add a fourth axis to the image data if necessary\nX_train = X_train[:, : , :, np.newaxis] # <-- Reshape the data on this line (see Tutorial for an example)\nX_test = X_test[:, : , :, np.newaxis] # <-- Reshape the data on this line (see Tutorial for an example)",
   "outputs": [],
   "execution_count": null
  },
  {
   "cell_type": "markdown",
   "source": "## Build a CNN Model\nIn this section, you are going to write our yown 2D-CNN! Luckily for us, keras has a nice 'Conv2D' layer we can use to make this a bit easier.\n\nTo practice building a *specific* CNN architecture, your task is to build the same architecture shown in this diagram.\n\n![CNN Architecture](https://github.com/BeaverWorksMedlytics2020/Data_Public/raw/master/Images/Week3/CNN-example-block-diagram.jpg)",
   "metadata": {
    "id": "BpZXxXKHUX94",
    "colab_type": "text",
    "cell_id": "00012-7c8e1674-2ddd-4426-ab23-bd9e77b2eb1f",
    "deepnote_cell_type": "markdown",
    "deepnote_cell_height": 475.453125
   }
  },
  {
   "cell_type": "code",
   "metadata": {
    "id": "rFoUdGi3UXTq",
    "colab_type": "code",
    "colab": {},
    "cell_id": "00013-8389fee0-5642-438b-9d5b-2c91c1e5eb0d",
    "deepnote_to_be_reexecuted": false,
    "source_hash": "33d3eb40",
    "execution_start": 1658860706769,
    "execution_millis": 10,
    "deepnote_cell_type": "code",
    "deepnote_cell_height": 873
   },
   "source": "def initialize_model():\n    \"\"\"Constructs a TensorFlow CNN model\"\"\"\n    # Clear out any old versions of the models\n    tf.keras.backend.clear_session()\n\n    # Initialize a `Sequential` model so we can just add layers sequentially\n    model = tf.keras.Sequential()\n    \n    # Insert an `Input` layer so that you can just focus on which convolutional\n    # and activation layers to add.\n    model.add(tf.keras.layers.Input(shape=(28, 28, 1)))\n\n    # Add the contents of `Layer 1` from the diagram above\n    ### YOUR CODE HERE ###\n    model.add(tf.keras.layers.Conv2D(filters=32, kernel_size=5,\n                                 padding='valid',\n                                 activation=tf.nn.relu))\n\n    model.add(tf.keras.layers.MaxPooling2D(pool_size=(2,2),\n                                       strides=2, \n                                       padding='valid',\n                                       data_format='channels_last'))\n\n    # Add the contents of `Layer 2` from the diagram above\n    ### YOUR CODE HERE ###\n    model.add(tf.keras.layers.Conv2D(filters=64, kernel_size=5,\n                                 padding='valid',\n                                 activation=tf.nn.relu))\n\n    model.add(tf.keras.layers.MaxPooling2D(pool_size=(2,2),\n                                       strides=2, \n                                       padding='valid',\n                                       data_format='channels_last'))\n\n    # Add a `Flatten` layer to convert from feature maps into feature vectors\n    ### YOUR CODE HERE ###\n    model.add(tf.keras.layers.Flatten())\n    # Apply classification fully connected (`Dense`) layers\n    model.add(tf.keras.layers.Dense(3164, activation=tf.nn.relu))\n    model.add(tf.keras.layers.Dense(1000, activation=tf.nn.relu))\n\n    # NOTE: first dense layer uses `relu` and second uses `softmax`\n    ### YOUR CODE HERE ###\n    model.add(tf.keras.layers.Dense(10, activation=tf.nn.softmax))\n    return model",
   "outputs": [],
   "execution_count": null
  },
  {
   "cell_type": "markdown",
   "source": "Now we can execute the model initialization code and summarize the model structure.",
   "metadata": {
    "id": "OquXvhDMYe3u",
    "colab_type": "text",
    "cell_id": "00014-48e15eda-6e01-47f8-9565-6872ad5434f4",
    "deepnote_cell_type": "markdown",
    "deepnote_cell_height": 52.390625
   }
  },
  {
   "cell_type": "code",
   "metadata": {
    "id": "AHpXMMOPYgNy",
    "colab_type": "code",
    "colab": {
     "base_uri": "https://localhost:8080/",
     "height": 391
    },
    "outputId": "e1e1fe54-051f-441e-aa8e-6a901f72d409",
    "cell_id": "00015-9c3c02da-5f4d-46f8-b25d-c9ea5cc056be",
    "deepnote_to_be_reexecuted": false,
    "source_hash": "376f8c83",
    "execution_start": 1658860708467,
    "execution_millis": 139,
    "deepnote_cell_type": "code",
    "deepnote_cell_height": 620.375
   },
   "source": "# Run the initialization model and print the contents to the user\nmodel = initialize_model()\nmodel.summary()",
   "outputs": [
    {
     "name": "stdout",
     "text": "Model: \"sequential\"\n_________________________________________________________________\n Layer (type)                Output Shape              Param #   \n=================================================================\n conv2d (Conv2D)             (None, 24, 24, 32)        832       \n                                                                 \n max_pooling2d (MaxPooling2D  (None, 12, 12, 32)       0         \n )                                                               \n                                                                 \n conv2d_1 (Conv2D)           (None, 8, 8, 64)          51264     \n                                                                 \n max_pooling2d_1 (MaxPooling  (None, 4, 4, 64)         0         \n 2D)                                                             \n                                                                 \n flatten (Flatten)           (None, 1024)              0         \n                                                                 \n dense (Dense)               (None, 3164)              3243100   \n                                                                 \n dense_1 (Dense)             (None, 10)                31650     \n                                                                 \n=================================================================\nTotal params: 3,326,846\nTrainable params: 3,326,846\nNon-trainable params: 0\n_________________________________________________________________\n",
     "output_type": "stream"
    }
   ],
   "execution_count": null
  },
  {
   "cell_type": "markdown",
   "source": "## Compile and Train the Model\n\nSpecify the loss function and optimization routine. Then compile the model you designed. Compiltation of the Keras model initializes the model weights and sets some other model properties.",
   "metadata": {
    "colab_type": "text",
    "id": "3DwOWHAVMfZU",
    "cell_id": "00016-85463133-86ba-43ba-92a9-1d24059ec44c",
    "deepnote_cell_type": "markdown",
    "deepnote_cell_height": 130.796875
   }
  },
  {
   "cell_type": "code",
   "metadata": {
    "colab_type": "code",
    "id": "azIn2h-PMfZV",
    "colab": {},
    "cell_id": "00017-05e690a8-5f9a-4c89-b480-4d1c246723b1",
    "deepnote_to_be_reexecuted": false,
    "source_hash": "24da5c0",
    "execution_start": 1658860710566,
    "execution_millis": 7,
    "deepnote_cell_type": "code",
    "deepnote_cell_height": 261
   },
   "source": "# Specify the loss function to use\nloss_func = tf.keras.losses.categorical_crossentropy\n\n# Use the \"Adam\" adaptive learning algorithm to optimize the filter weights\nopt = tf.keras.optimizers.Adam(learning_rate=0.0001)\n\n# Generate a list of metrics to print\nmetrics_to_print = ['accuracy']\n\n# Compile the model using the specified loss function and potimizer\nmodel.compile(loss=loss_func, optimizer=opt, metrics=metrics_to_print)",
   "outputs": [],
   "execution_count": null
  },
  {
   "cell_type": "markdown",
   "source": "With your model compiled, run the training routine.",
   "metadata": {
    "id": "DiJSqgNDvpk0",
    "colab_type": "text",
    "cell_id": "00018-2be5d907-46b0-4afc-a7d9-3b1a92ec9c94",
    "deepnote_cell_type": "markdown",
    "deepnote_cell_height": 52.390625
   }
  },
  {
   "cell_type": "code",
   "metadata": {
    "id": "G_IjuSV-vth0",
    "colab_type": "code",
    "colab": {
     "base_uri": "https://localhost:8080/",
     "height": 119
    },
    "outputId": "9af47ad4-a0a1-45cd-9b15-1722bab5a2e2",
    "cell_id": "00019-e260c6cb-9b0f-4674-b858-0346fbd3ccbb",
    "deepnote_to_be_reexecuted": false,
    "source_hash": "7ef5f45c",
    "execution_start": 1658860712599,
    "execution_millis": 262674,
    "deepnote_cell_type": "code",
    "deepnote_cell_height": 430.671875
   },
   "source": "#This function is called after each epoch\n#(It will ensure that your training process does not consume all available RAM)\nclass garbage_collect_callback(tf.keras.callbacks.Callback):\n  def on_epoch_end(self, epoch, logs=None):\n    gc.collect()\n\nhistory = model.fit(X_train,        # Train examples\n          y_train,                  # Train labels\n          epochs=3,                 # number of epochs\n          batch_size= 256,          # number of images for each iteration\n          callbacks=[garbage_collect_callback()],\n          validation_data=(X_test, y_test), # Data for validation\n          verbose=True)             # Print info about optimization process",
   "outputs": [
    {
     "name": "stdout",
     "text": "Epoch 1/3\n235/235 [==============================] - 78s 331ms/step - loss: 0.5914 - accuracy: 0.8549 - val_loss: 0.1916 - val_accuracy: 0.9440\nEpoch 2/3\n235/235 [==============================] - 77s 327ms/step - loss: 0.1525 - accuracy: 0.9554 - val_loss: 0.1080 - val_accuracy: 0.9676\nEpoch 3/3\n235/235 [==============================] - 78s 331ms/step - loss: 0.0968 - accuracy: 0.9717 - val_loss: 0.0692 - val_accuracy: 0.9797\n",
     "output_type": "stream"
    }
   ],
   "execution_count": null
  },
  {
   "cell_type": "markdown",
   "source": "## Evaluate Model Performance\n\nNow that the model has been trained, we can use it to generate predictions and evaluate its performance.",
   "metadata": {
    "id": "dF1ufZSGeZ5m",
    "colab_type": "text",
    "cell_id": "00020-92bd612a-1ec2-4887-aee7-e8232d285ad5",
    "deepnote_cell_type": "markdown",
    "deepnote_cell_height": 108.390625
   }
  },
  {
   "cell_type": "code",
   "metadata": {
    "colab_type": "code",
    "id": "_ngFO-dYMfZa",
    "colab": {
     "base_uri": "https://localhost:8080/",
     "height": 51
    },
    "outputId": "3ca575da-b21b-4016-9bee-c5075e1676b0",
    "cell_id": "00021-ecbf851e-30a7-4de3-b674-c41a5d28961e",
    "deepnote_to_be_reexecuted": false,
    "source_hash": "38fe3e3a",
    "execution_start": 1658860978400,
    "execution_millis": 8759,
    "deepnote_cell_type": "code",
    "deepnote_cell_height": 223.078125
   },
   "source": "# Evaluate model using the test images\ntest_pred = model.predict(X_test)\nscores = model.evaluate(X_test, y_test, verbose=False)\nprint('Testing model on test set:')\nprint(f'Model Loss: {scores[0]:.3f}, {metrics_to_print[0]}: {scores[1]:.3f}')",
   "outputs": [
    {
     "name": "stdout",
     "text": "313/313 [==============================] - 4s 14ms/step\nTesting model on test set:\nModel Loss: 0.069, accuracy: 0.980\n",
     "output_type": "stream"
    }
   ],
   "execution_count": null
  },
  {
   "cell_type": "markdown",
   "source": "Let's take a look at the confusion matrix for these model predictions",
   "metadata": {
    "colab_type": "text",
    "id": "sjAqutu2MfZf",
    "cell_id": "00022-7ec066cc-c607-40fc-b450-2c582fd4a8d1",
    "deepnote_cell_type": "markdown",
    "deepnote_cell_height": 52.390625
   }
  },
  {
   "cell_type": "code",
   "metadata": {
    "id": "yXGdzQ25e7gz",
    "colab_type": "code",
    "colab": {
     "base_uri": "https://localhost:8080/",
     "height": 187
    },
    "outputId": "e07d57c4-84f4-4823-a536-1bee763be9dc",
    "cell_id": "00023-b6a970d5-8eae-47c8-b25f-00bb70696622",
    "deepnote_to_be_reexecuted": false,
    "source_hash": "eb1aee72",
    "execution_start": 1658860989745,
    "execution_millis": 3,
    "deepnote_cell_type": "code",
    "deepnote_cell_height": 432.953125
   },
   "source": "# First, convert the one-hot encoded true labels and predictied labels back into\n# a numerical classification value. This can be accomplished with the `argmax`\n# function and that neat `axis` keyword, again.\ntest_true_labels = y_test.argmax(axis=1)\ntest_pred_labels = test_pred.argmax(axis=1)\n\n# Generate the confusion matrix using these labels\nmat = confusion_matrix(test_true_labels, test_pred_labels)\nprint(mat)",
   "outputs": [
    {
     "name": "stdout",
     "text": "[[ 972    0    1    0    0    1    1    1    4    0]\n [   0 1123    5    1    0    0    1    0    5    0]\n [   4    1 1015    3    1    0    0    4    4    0]\n [   1    0    3  992    0    3    0    3    5    3]\n [   1    0    3    0  968    0    1    1    3    5]\n [   3    0    2   11    0  866    3    1    4    2]\n [   9    3    0    1    3    3  934    0    5    0]\n [   1    4   16    3    0    0    0  994    2    8]\n [   6    0    3    2    2    0    1    3  953    4]\n [   5    4    0    5    8    1    0    5    1  980]]\n",
     "output_type": "stream"
    }
   ],
   "execution_count": null
  },
  {
   "cell_type": "markdown",
   "source": "To get a more visual representation of the matrix, let's plot it in matplotlib.",
   "metadata": {
    "id": "WS3XfFfiftub",
    "colab_type": "text",
    "cell_id": "00024-5aca95ac-b9f7-4ea1-99b6-0947a60536ad",
    "deepnote_cell_type": "markdown",
    "deepnote_cell_height": 52.390625
   }
  },
  {
   "cell_type": "code",
   "metadata": {
    "colab_type": "code",
    "id": "h7RYbDzyMfZm",
    "colab": {
     "base_uri": "https://localhost:8080/",
     "height": 507
    },
    "outputId": "08506000-03bb-4dec-c8d5-ea9f5fd3ece4",
    "cell_id": "00025-32a38981-b77d-450d-ab21-2440632ce0e2",
    "deepnote_to_be_reexecuted": false,
    "source_hash": "8147162b",
    "execution_start": 1658860991713,
    "execution_millis": 303,
    "deepnote_cell_type": "code",
    "deepnote_cell_height": 769,
    "deepnote_output_heights": [
     492
    ]
   },
   "source": "# Generate a new figure\nplt.figure(figsize=(10,8))\n\n# Display the confusion matrix\nplt.imshow(mat, cmap='hot', interpolation='nearest')\n\n# Add some anotation for the plot\nplt.colorbar()\nplt.xlabel('True label')\nplt.ylabel('Predicted label')\nplt.show()",
   "outputs": [
    {
     "data": {
      "text/plain": "<Figure size 720x576 with 2 Axes>",
      "image/png": "[encoded data removed]"
     },
     "metadata": {
      "needs_background": "light",
      "image/png": {
       "width": 582,
       "height": 490
      }
     },
     "output_type": "display_data"
    }
   ],
   "execution_count": null
  },
  {
   "cell_type": "markdown",
   "source": "Wow! If you successfully built and trained that model, it looks like it does pretty well!",
   "metadata": {
    "id": "pgtDkLA609me",
    "colab_type": "text",
    "cell_id": "00026-fb393d95-73ce-4cee-b53e-73d11c6d2b44",
    "deepnote_cell_type": "markdown",
    "deepnote_cell_height": 52.390625
   }
  },
  {
   "cell_type": "markdown",
   "source": "# Visualizing Your Model\n\nNow that your model has been fully trained, let's see what its kernels and features look like.",
   "metadata": {
    "id": "lfFdnRy_GqBa",
    "colab_type": "text",
    "cell_id": "00027-3f43ebc9-1386-49e0-8c59-02f7e3f5ba53",
    "deepnote_cell_type": "markdown",
    "deepnote_cell_height": 120.390625
   }
  },
  {
   "cell_type": "markdown",
   "source": "## Visualizing Kernels\n\nIn this section, we are going to visually examine some of the kernels which were learned during the training process. These are effectively the \"feature extractors\" that proved to be so effective. Perhaps by examining them, we can gain some insight into what particular features are useful for classifying hand drawn digits.",
   "metadata": {
    "id": "1GV7wm7sGv2d",
    "colab_type": "text",
    "cell_id": "00028-c9af4bfb-bb26-4fb4-b1b4-e6d5c303fa1c",
    "deepnote_cell_type": "markdown",
    "deepnote_cell_height": 153.1875
   }
  },
  {
   "cell_type": "code",
   "metadata": {
    "id": "U3NQoWnoGEHD",
    "colab_type": "code",
    "colab": {},
    "cell_id": "00029-b24afe54-1006-41fd-a30d-18de334984cf",
    "deepnote_to_be_reexecuted": false,
    "source_hash": "68477f47",
    "execution_start": 1658860998837,
    "execution_millis": 1,
    "deepnote_cell_type": "code",
    "deepnote_cell_height": 819
   },
   "source": "def get_kernels(model, layer_number):\n    \"\"\"Grab the kernels from the specified layer\"\"\"\n    # Grab the kernels and biases for the specified layer\n    conv_layers = [l for l in model.layers\n                   if isinstance(l, tf.keras.layers.Conv2D)]\n    layer = conv_layers[layer_number]\n    kernels, bias = layer.get_weights()\n\n    return kernels\n\ndef get_grid_size(kernels):\n    \"\"\"Computes the necessary grid-size to show all the kernels or outputs\"\"\"\n    # Count the number of kernels and plan a plotting strategy\n    num_kernels = kernels.shape[-1]\n    grid_size = np.int(np.ceil(np.sqrt(num_kernels)))\n\n    return grid_size\n\n# Build a function to help visualize the contents of our model\ndef visualize_kernels(model, layer_number):\n    \"\"\"Displays some of the kernels from the specified layer number\"\"\"\n    # Grab the kernels for the specified layer\n    kernels = get_kernels(model, layer_number)\n\n    # Count the number of kernels and compute the necessary plot grid size\n    num_kernels = kernels.shape[-1]\n    grid_size = np.int(np.ceil(np.sqrt(num_kernels)))\n\n    # Initialize a figure for plotting\n    fig = plt.figure(figsize=(10, 10))\n\n    # Loop over each of the kernels\n    for i_kern in range(num_kernels):\n        # Create a subplot to display this kernel\n        ax = plt.subplot(grid_size, grid_size, i_kern+1)\n\n        # Display the kernel for the user to view\n        ax.imshow(kernels[:,:,0,i_kern], cmap='gray_r')\n        \n        # Remove those distracting tick labels\n        ax.axes.xaxis.set_visible(False)\n        ax.axes.yaxis.set_visible(False)",
   "outputs": [],
   "execution_count": null
  },
  {
   "cell_type": "markdown",
   "source": "In the next cell, we use the defined visualization functions to examine the kernels of the trained model.",
   "metadata": {
    "id": "OE4nvQyh68T8",
    "colab_type": "text",
    "cell_id": "00030-f8616b81-cb68-424a-90b3-c393c75df13c",
    "deepnote_cell_type": "markdown",
    "deepnote_cell_height": 52.390625
   }
  },
  {
   "cell_type": "code",
   "metadata": {
    "id": "IdfrbgWN67wv",
    "colab_type": "code",
    "colab": {
     "base_uri": "https://localhost:8080/",
     "height": 578
    },
    "outputId": "931ac2d9-4945-4a57-b939-9b311bfc1255",
    "cell_id": "00031-4aaa36ef-6b85-4081-ba53-30ce631c48cd",
    "deepnote_to_be_reexecuted": false,
    "source_hash": "2767f017",
    "execution_start": 1658861000900,
    "execution_millis": 2156,
    "deepnote_cell_type": "code",
    "deepnote_cell_height": 785.578125,
    "deepnote_output_heights": [
     547.359375,
     563
    ]
   },
   "source": "# Pick a layer of kernels to visualize and then display them\nlayer_to_visualize = 1\nvisualize_kernels(model, layer_to_visualize)",
   "outputs": [
    {
     "name": "stderr",
     "text": "<ipython-input-27-a6a5fcc89274>:27: DeprecationWarning: `np.int` is a deprecated alias for the builtin `int`. To silence this warning, use `int` by itself. Doing this will not modify any behavior and is safe. When replacing `np.int`, you may wish to use e.g. `np.int64` or `np.int32` to specify the precision. If you wish to review your current use, check the release note link for additional information.\nDeprecated in NumPy 1.20; for more details and guidance: https://numpy.org/devdocs/release/1.20.0-notes.html#deprecations\n  grid_size = np.int(np.ceil(np.sqrt(num_kernels)))\n",
     "output_type": "stream"
    },
    {
     "data": {
      "text/plain": "<Figure size 720x720 with 64 Axes>",
      "image/png": "[encoded data removed]"
     },
     "metadata": {
      "needs_background": "light",
      "image/png": {
       "width": 574,
       "height": 561
      }
     },
     "output_type": "display_data"
    }
   ],
   "execution_count": null
  },
  {
   "cell_type": "markdown",
   "source": "**Question 1:** Do these filters look like they're picking up on any particular information? Perhaps there are nice lines and curves in the filters indicating what type of information is being identified as useful features... perhaps there are not.\n\nThe filters look random at first, but when we visualized the effects of each filter on an image, the filters focus on the edges and curves of each number. For example for the 7 example below, alot of the filters picked up the corner where the top line connected to the right side of the number.",
   "metadata": {
    "id": "vb0_4cTG4SF2",
    "colab_type": "text",
    "cell_id": "00032-cc1adf3a-6fca-483a-84a6-572f28954c8f",
    "deepnote_cell_type": "markdown",
    "deepnote_cell_height": 155.984375
   }
  },
  {
   "cell_type": "markdown",
   "source": "## Visualizing Features\n\nNow that we have examined the learned kernels, perhaps we can glean some more information by looking at the convolution of an input image with some of these kernels.",
   "metadata": {
    "id": "pxUMfsrpG_-q",
    "colab_type": "text",
    "cell_id": "00033-006cee2a-b287-4acf-b564-11dc73284ee7",
    "owner_user_id": "b55e2086-05ad-4387-a33c-7824764ad5c7",
    "deepnote_cell_type": "markdown",
    "deepnote_cell_height": 130.796875
   }
  },
  {
   "cell_type": "code",
   "metadata": {
    "id": "QgskDYcocruY",
    "colab_type": "code",
    "colab": {},
    "cell_id": "00034-88280a65-7783-4409-b5b5-d821dd1765d3",
    "deepnote_to_be_reexecuted": false,
    "source_hash": "fc6e9754",
    "execution_start": 1658861013272,
    "execution_millis": 3,
    "deepnote_cell_type": "code",
    "deepnote_cell_height": 693
   },
   "source": "def visualize_convolutions(model, layer_number, input_image):\n    # Re-build our trained model in a way that we can grab the convolved outputs\n    output = output = [l.output for l in model.layers\n        if isinstance(l, tf.keras.layers.Conv2D)]\n    model_visual = tf.keras.models.Model(inputs=model.input, outputs=output)\n\n    # Visualize the original input image\n    plt.figure()\n    plt.imshow(example_image[:, :, 0], cmap='gray_r')\n    plt.title('Original Image')\n\n    # Re-format the example image so that it can be passed through the model\n    input_image1 = input_image.reshape(1,28,28,1)\n\n    # Apply the model to the input image\n    output_convolutions = model_visual.predict(input_image1)[layer_number]\n\n    # Compute the grid size necessary to display the convolved layer outputs\n    num_outputs = output_convolutions.shape[-1]\n    grid_size = np.int(np.ceil(np.sqrt(num_outputs)))\n\n    # Initialize a figure for plotting the outputs\n    fig = plt.figure(figsize=(10, 10))\n\n    # Loop over each of the kernels\n    for i_conv in range(num_outputs):\n        # Create a subplot to display this kernel\n        ax = plt.subplot(grid_size, grid_size, i_conv+1)\n\n        # Display the kernel for the user to view\n        ax.imshow(output_convolutions[0,:,:,i_conv], cmap='gray_r')\n        \n        # Remove those distracting tick labels\n        ax.axes.xaxis.set_visible(False)\n        ax.axes.yaxis.set_visible(False)",
   "outputs": [],
   "execution_count": null
  },
  {
   "cell_type": "code",
   "metadata": {
    "id": "FI7blQY_--T7",
    "colab_type": "code",
    "colab": {
     "base_uri": "https://localhost:8080/",
     "height": 852
    },
    "outputId": "ff37fe74-225b-4129-a8f6-989c54fa9c50",
    "cell_id": "00035-19d269b9-03d6-43d1-b9ec-be75f1cbf11f",
    "deepnote_to_be_reexecuted": false,
    "source_hash": "1eb19e75",
    "execution_start": 1658861014297,
    "execution_millis": 2642,
    "deepnote_cell_type": "code",
    "deepnote_cell_height": 1166.28125,
    "deepnote_output_heights": [
     276,
     276,
     563
    ]
   },
   "source": "# Grab a single test image to examine\nexample_image = X_test[17] # <-- Try grabbing other test images, too!\n\n# Run the visualization funtion to examine some of the convolutions\noutput_layer_to_visualize = 1\nvisualize_convolutions(model, output_layer_to_visualize, example_image)",
   "outputs": [
    {
     "name": "stdout",
     "text": "1/1 [==============================] - 0s 43ms/step\n<ipython-input-29-4a31789c79a6>:20: DeprecationWarning: `np.int` is a deprecated alias for the builtin `int`. To silence this warning, use `int` by itself. Doing this will not modify any behavior and is safe. When replacing `np.int`, you may wish to use e.g. `np.int64` or `np.int32` to specify the precision. If you wish to review your current use, check the release note link for additional information.\nDeprecated in NumPy 1.20; for more details and guidance: https://numpy.org/devdocs/release/1.20.0-notes.html#deprecations\n  grid_size = np.int(np.ceil(np.sqrt(num_outputs)))\n",
     "output_type": "stream"
    },
    {
     "data": {
      "text/plain": "<Figure size 432x288 with 1 Axes>",
      "image/png": "[encoded data removed]"
     },
     "metadata": {
      "needs_background": "light",
      "image/png": {
       "width": 259,
       "height": 274
      }
     },
     "output_type": "display_data"
    },
    {
     "data": {
      "text/plain": "<Figure size 720x720 with 64 Axes>",
      "image/png": "[encoded data removed]"
     },
     "metadata": {
      "needs_background": "light",
      "image/png": {
       "width": 574,
       "height": 561
      }
     },
     "output_type": "display_data"
    }
   ],
   "execution_count": null
  },
  {
   "cell_type": "markdown",
   "source": "Examine the output convolved images for each of the primary layers of your CNN. Consider what these output convolved images represent.\n\n**Question 2:** Based on your answer to Question 1, above, how would you respond to someone who asked you \"What information is your CNN extracting from the input images to classify them correctly?\"\n\nThe CNN is extracting information about the edges and corners of the numbers to classify them correctly.",
   "metadata": {
    "id": "EdUUAxz-ARmh",
    "colab_type": "text",
    "cell_id": "00036-cfc3a571-f2b7-4771-ba13-f3bbf623af75",
    "deepnote_cell_type": "markdown",
    "deepnote_cell_height": 169.984375
   }
  },
  {
   "cell_type": "markdown",
   "source": "# Conclusion\n\nIn this notebook, we built a 2D CNN to perform image classification on the MNIST dataset. Although we were able to achieve fairly good performance on this dataset, we have potentially sacrificed some of the interpretability that comes with more conventional approaches to image classification.",
   "metadata": {
    "id": "FEhrQfiHGYYs",
    "colab_type": "text",
    "cell_id": "00037-8b559e73-8ccb-4510-acb2-0b29674ef164",
    "owner_user_id": "c4be1506-04b7-4de0-bca3-1f448f666af7",
    "deepnote_cell_type": "markdown",
    "deepnote_cell_height": 165.1875
   }
  },
  {
   "cell_type": "markdown",
   "source": "<a style='text-decoration:none;line-height:16px;display:flex;color:#5B5B62;padding:10px;justify-content:end;' href='https://deepnote.com?utm_source=created-in-deepnote-cell&projectId=ccdb29b9-b801-4172-baf4-71cab3f2ea28' target=\"_blank\">\n<img alt='Created in deepnote.com' style='display:inline;max-height:16px;margin:0px;margin-right:7.5px;' src='data:image/svg+xml;base64,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' > </img>\nCreated in <span style='font-weight:600;margin-left:4px;'>Deepnote</span></a>",
   "metadata": {
    "tags": [],
    "created_in_deepnote_cell": true,
    "deepnote_cell_type": "markdown"
   }
  }
 ],
 "nbformat": 4,
 "nbformat_minor": 0,
 "metadata": {
  "colab": {
   "name": "2DConvNets_Exercises.ipynb",
   "provenance": [],
   "collapsed_sections": []
  },
  "kernelspec": {
   "name": "python3",
   "display_name": "Python 3"
  },
  "accelerator": "TPU",
  "deepnote_notebook_id": "ed4c2aa3-c1fb-4d9b-9dc7-259ebbb3e01e",
  "deepnote": {},
  "deepnote_execution_queue": []
 }
}